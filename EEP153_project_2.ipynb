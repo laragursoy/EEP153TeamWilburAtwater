{
 "cells": [
  {
   "cell_type": "markdown",
   "id": "85c86cc9",
   "metadata": {},
   "source": [
    "# __Group Project 2 - Team Wilbur Atwater__\n",
    "<br>\n",
    "\n",
    "\n",
    "### __Team Members: Lara Gursoy (Project Manager), Kate O’Hara, Himalia Joshi, Qianhao Zhong, Bolor Erdene-Ochir, Moria Zhut__\n",
    "<br>\n",
    "\n",
    "\n",
    "## **1. Project Topic:**\n",
    "\n",
    "> __Examining the minimum subsistence price for 3 different kinds of diets (keto, mediterranean, vegan) using one list of products, adjusting the function for each diet to put different constrictions on nutrition in accordance with each diet.__\n",
    "<br>\n",
    "\n",
    "\n",
    "## **2. Project Goal:**\n",
    "* __Find which diet is the most expensive and least expensive.__\n",
    "* __Find which diet is the least \"nutritious\" in comparison to federal nutrition recommendations and what its price is.__\n",
    "* __Compare our findings of each diet with preconceived notions/widespread opinions about each diet (eg: vegan is expensive/unhealthy).__\n",
    "<br>\n",
    "\n",
    "\n",
    "## **3. [A]Population of Interest:**\n",
    "<br>\n",
    "\n",
    "\n",
    "## **4. Project Deliverables:**"
   ]
  },
  {
   "cell_type": "markdown",
   "id": "4959cbe3",
   "metadata": {},
   "source": [
    "### [A] Dietary Reference Intakes:"
   ]
  },
  {
   "cell_type": "code",
   "execution_count": null,
   "id": "d9dfe64b",
   "metadata": {},
   "outputs": [],
   "source": []
  },
  {
   "cell_type": "markdown",
   "id": "4a96ea30",
   "metadata": {},
   "source": [
    "### [A] Data on Prices for Difference foods:"
   ]
  },
  {
   "cell_type": "code",
   "execution_count": null,
   "id": "fb766ee4",
   "metadata": {},
   "outputs": [],
   "source": []
  },
  {
   "cell_type": "markdown",
   "id": "12a43087",
   "metadata": {},
   "source": [
    "### [A] Nutritional Content of Different Foods:"
   ]
  },
  {
   "cell_type": "code",
   "execution_count": null,
   "id": "c4528056",
   "metadata": {},
   "outputs": [],
   "source": []
  },
  {
   "cell_type": "markdown",
   "id": "927a97c0",
   "metadata": {},
   "source": [
    "### [A] Solution:"
   ]
  },
  {
   "cell_type": "code",
   "execution_count": null,
   "id": "13eca3a0",
   "metadata": {},
   "outputs": [],
   "source": []
  },
  {
   "cell_type": "markdown",
   "id": "a95a73fc",
   "metadata": {},
   "source": [
    "### [B] Is Your Solution Edible?"
   ]
  },
  {
   "cell_type": "code",
   "execution_count": null,
   "id": "0190602e",
   "metadata": {},
   "outputs": [],
   "source": []
  },
  {
   "cell_type": "markdown",
   "id": "81a621e2",
   "metadata": {},
   "source": [
    "### [B] Meal Reviews:"
   ]
  },
  {
   "cell_type": "code",
   "execution_count": null,
   "id": "8556a5dc",
   "metadata": {},
   "outputs": [],
   "source": []
  },
  {
   "cell_type": "markdown",
   "id": "19dd8d82",
   "metadata": {},
   "source": [
    "### [C] Sensitivity of Solution:"
   ]
  },
  {
   "cell_type": "code",
   "execution_count": null,
   "id": "7afcf86f",
   "metadata": {},
   "outputs": [],
   "source": []
  },
  {
   "cell_type": "markdown",
   "id": "97edf8d2",
   "metadata": {},
   "source": [
    "### [B] What is Total Cost for Population of Interest?"
   ]
  },
  {
   "cell_type": "code",
   "execution_count": null,
   "id": "25a64f42",
   "metadata": {},
   "outputs": [],
   "source": []
  },
  {
   "cell_type": "markdown",
   "id": "b0da90bd",
   "metadata": {},
   "source": [
    "### [A] Dietary Reference Intakes:"
   ]
  },
  {
   "cell_type": "code",
   "execution_count": null,
   "id": "339ac1a7",
   "metadata": {},
   "outputs": [],
   "source": []
  },
  {
   "cell_type": "markdown",
   "id": "1ae0401c",
   "metadata": {},
   "source": [
    "<br>\n",
    "\n",
    "\n",
    "## **5. Project Conclusion:**"
   ]
  }
 ],
 "metadata": {
  "kernelspec": {
   "display_name": "Python 3 (ipykernel)",
   "language": "python",
   "name": "python3"
  },
  "language_info": {
   "codemirror_mode": {
    "name": "ipython",
    "version": 3
   },
   "file_extension": ".py",
   "mimetype": "text/x-python",
   "name": "python",
   "nbconvert_exporter": "python",
   "pygments_lexer": "ipython3",
   "version": "3.11.5"
  }
 },
 "nbformat": 4,
 "nbformat_minor": 5
}
